{
 "cells": [
  {
   "cell_type": "markdown",
   "id": "c9a86c4b",
   "metadata": {},
   "source": [
    "# ✅ CKD Model Training with Calibration and Class Balance\n",
    "This notebook improves the model training pipeline for CKD detection."
   ]
  },
  {
   "cell_type": "code",
   "execution_count": null,
   "id": "27b1abc6",
   "metadata": {},
   "outputs": [],
   "source": [
    "import pandas as pd\n",
    "import numpy as np\n",
    "from sklearn.model_selection import train_test_split\n",
    "from sklearn.ensemble import RandomForestClassifier\n",
    "from sklearn.linear_model import LogisticRegression\n",
    "from sklearn.feature_selection import SelectKBest, chi2\n",
    "from sklearn.calibration import CalibratedClassifierCV\n",
    "from sklearn.metrics import classification_report, confusion_matrix\n",
    "import joblib\n",
    "import matplotlib.pyplot as plt\n",
    "import seaborn as sns\n",
    "\n",
    "%matplotlib inline"
   ]
  },
  {
   "cell_type": "code",
   "execution_count": null,
   "id": "2b3cd0f7",
   "metadata": {},
   "outputs": [],
   "source": [
    "# Load dataset\n",
    "df = pd.read_csv(\"../data/kidney_disease.csv\")\n",
    "\n",
    "# Column renaming\n",
    "df.rename(columns={\n",
    "    'bp': 'blood pressure', 'sg': 'specific gravity', 'al': 'albumin', 'su': 'sugar', 'rbc': 'red blood cells',\n",
    "    'pc': 'pus cell', 'pcc': 'pus cell clumps', 'ba': 'bacteria', 'bgr': 'blood glucose random',\n",
    "    'bu': 'blood urea', 'sc': 'serum creatinine', 'sod': 'sodium', 'pot': 'potassium', 'hemo': 'haemoglobin',\n",
    "    'pcv': 'packed cell volume', 'wc': 'white blood cell count', 'rc': 'red blood cell count',\n",
    "    'htn': 'hypertension', 'dm': 'diabetes mellitus', 'cad': 'coronary artery disease', 'appet': 'appetite',\n",
    "    'pe': 'pedal edema', 'ane': 'anemia', 'classification': 'class'\n",
    "}, inplace=True)"
   ]
  },
  {
   "cell_type": "code",
   "execution_count": null,
   "id": "94380448",
   "metadata": {},
   "outputs": [],
   "source": [
    "# Basic cleaning\n",
    "df = df.replace({\n",
    "    \"yes\": 1, \"no\": 0, \"ckd\": 1, \"notckd\": 0,\n",
    "    \"normal\": 1, \"abnormal\": 0, \"present\": 1, \"notpresent\": 0,\n",
    "    \"good\": 1, \"poor\": 0, \"\\tyes\": 1, \"\\tno\": 0, \"?\": np.nan\n",
    "})\n",
    "df = df.drop(columns=['id'], errors='ignore')\n",
    "\n",
    "# Convert object columns to numeric\n",
    "for col in df.select_dtypes(include=['object']).columns:\n",
    "    df[col] = df[col].astype(str).str.strip().replace('?', np.nan)\n",
    "    df[col] = pd.to_numeric(df[col], errors='coerce')\n",
    "\n",
    "# Fill missing values\n",
    "df.fillna(df.median(numeric_only=True), inplace=True)\n",
    "for col in df.columns[df.isna().any()]:\n",
    "    df[col] = df[col].fillna(df[col].mode()[0] if not df[col].mode().empty else -1)"
   ]
  },
  {
   "cell_type": "code",
   "execution_count": null,
   "id": "b6894db3",
   "metadata": {},
   "outputs": [],
   "source": [
    "# Feature selection\n",
    "X = df.drop(columns=['class'])\n",
    "y = df['class'].astype(int)\n",
    "\n",
    "selector = SelectKBest(score_func=chi2, k=10)\n",
    "X_selected = selector.fit_transform(X, y)\n",
    "selected_features = X.columns[selector.get_support()]\n",
    "print(\"Top 10 Features:\", selected_features.tolist())"
   ]
  },
  {
   "cell_type": "code",
   "execution_count": null,
   "id": "5f62114b",
   "metadata": {},
   "outputs": [],
   "source": [
    "# Split data\n",
    "X_train, X_test, y_train, y_test = train_test_split(\n",
    "    X_selected, y, test_size=0.2, stratify=y, random_state=42\n",
    ")"
   ]
  },
  {
   "cell_type": "code",
   "execution_count": null,
   "id": "d3ed0fd9",
   "metadata": {},
   "outputs": [],
   "source": [
    "from sklearn.preprocessing import StandardScaler\n",
    "\n",
    "# Scale selected features\n",
    "scaler = StandardScaler()\n",
    "X_train = scaler.fit_transform(X_train)\n",
    "X_test = scaler.transform(X_test)\n",
    "\n",
    "# Save scaler\n",
    "joblib.dump(scaler, \"scaler.pkl\")\n"
   ]
  },
  {
   "cell_type": "code",
   "execution_count": null,
   "id": "b57f00f1",
   "metadata": {},
   "outputs": [],
   "source": [
    "# Logistic Regression with class weighting and calibration\n",
    "base_model = LogisticRegression(max_iter=10000, class_weight='balanced', random_state=42)\n",
    "calibrated_model = CalibratedClassifierCV(base_model, cv=5)\n",
    "calibrated_model.fit(X_train, y_train)\n",
    "\n",
    "# Predict and evaluate\n",
    "y_pred = calibrated_model.predict(X_test)\n",
    "y_prob = calibrated_model.predict_proba(X_test)\n",
    "\n",
    "print(\"Classification Report:\")\n",
    "print(classification_report(y_test, y_pred))"
   ]
  },
  {
   "cell_type": "code",
   "execution_count": null,
   "id": "d8dcd735",
   "metadata": {},
   "outputs": [],
   "source": [
    "# Save the calibrated model and selector\n",
    "joblib.dump(calibrated_model, \"calibrated_ckd_model.pkl\")\n",
    "joblib.dump(selector, \"select_k_best.pkl\")"
   ]
  },
  {
   "cell_type": "code",
   "execution_count": null,
   "id": "4d96345e",
   "metadata": {},
   "outputs": [],
   "source": [
    "# Confusion Matrix\n",
    "conf_mat = confusion_matrix(y_test, y_pred)\n",
    "sns.heatmap(conf_mat, annot=True, fmt=\"d\", cmap=\"Blues\")\n",
    "plt.title(\"Confusion Matrix\")\n",
    "plt.xlabel(\"Predicted\")\n",
    "plt.ylabel(\"Actual\")\n",
    "plt.show()"
   ]
  }
 ],
 "metadata": {},
 "nbformat": 4,
 "nbformat_minor": 5
}
